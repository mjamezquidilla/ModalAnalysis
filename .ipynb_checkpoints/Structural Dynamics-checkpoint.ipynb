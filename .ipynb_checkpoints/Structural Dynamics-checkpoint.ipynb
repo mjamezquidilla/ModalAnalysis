{
 "cells": [
  {
   "cell_type": "markdown",
   "metadata": {},
   "source": [
    "# Computation for the EigenValues of a 3DOF System in Structural Dynamics\n",
    "\n",
    "In this example, we will look on how to solve a 3DOF system using python.\n",
    "This uses the library of Sympy (Symbolic Python) to solve the equations in terms of variables (letters)"
   ]
  },
  {
   "cell_type": "markdown",
   "metadata": {},
   "source": [
    "$$ m \\ddot(x) + c \\dot(x) + k (x) = 0 $$"
   ]
  },
  {
   "cell_type": "markdown",
   "metadata": {},
   "source": [
    "## Step 1: Loading libraries"
   ]
  },
  {
   "cell_type": "code",
   "execution_count": 1,
   "metadata": {},
   "outputs": [
    {
     "name": "stdout",
     "output_type": "stream",
     "text": [
      "Populating the interactive namespace from numpy and matplotlib\n"
     ]
    }
   ],
   "source": [
    "# imports numpy and matplotlib\n",
    "%pylab inline\n",
    "\n",
    "# imports sympy\n",
    "import sympy as sm\n",
    "\n",
    "# prints output using LaTeX for pretty viewing\n",
    "sm.init_printing(use_latex=True)"
   ]
  },
  {
   "cell_type": "markdown",
   "metadata": {},
   "source": [
    "## Step 2: Establish Mass Matrix"
   ]
  },
  {
   "cell_type": "code",
   "execution_count": 9,
   "metadata": {},
   "outputs": [
    {
     "data": {
      "image/png": "[encoded data removed]",
      "text/latex": [
       "$$\\left[\\begin{matrix}1000 & 0 & 0\\\\0 & 1500 & 0\\\\0 & 0 & 2000\\end{matrix}\\right]$$"
      ],
      "text/plain": [
       "⎡1000   0     0  ⎤\n",
       "⎢                ⎥\n",
       "⎢ 0    1500   0  ⎥\n",
       "⎢                ⎥\n",
       "⎣ 0     0    2000⎦"
      ]
     },
     "execution_count": 9,
     "metadata": {},
     "output_type": "execute_result"
    }
   ],
   "source": [
    "# assigning masses\n",
    "m1 = 1000 #(kg)\n",
    "m2 = 1500 #(kg)\n",
    "m3 = 2000 #(kg)\n",
    "\n",
    "# making the mass matrix\n",
    "m = sm.Matrix([[m1,0,0],[0,m2,0],[0,0,m3]])\n",
    "\n",
    "# printing the mass matrix\n",
    "m"
   ]
  },
  {
   "cell_type": "markdown",
   "metadata": {},
   "source": [
    "\n",
    "## Step 3: Establish Stiffness Matrix"
   ]
  },
  {
   "cell_type": "code",
   "execution_count": 10,
   "metadata": {},
   "outputs": [
    {
     "data": {
      "image/png": "[encoded data removed]",
      "text/latex": [
       "$$\\left[\\begin{matrix}600000 & -600000 & 0\\\\-600000 & 1800000 & -1200000\\\\0 & -1200000 & 3000000\\end{matrix}\\right]$$"
      ],
      "text/plain": [
       "⎡600000   -600000      0    ⎤\n",
       "⎢                           ⎥\n",
       "⎢-600000  1800000   -1200000⎥\n",
       "⎢                           ⎥\n",
       "⎣   0     -1200000  3000000 ⎦"
      ]
     },
     "execution_count": 10,
     "metadata": {},
     "output_type": "execute_result"
    }
   ],
   "source": [
    "# computing for the stiffnesses\n",
    "k1 = 600000 #(N/m)\n",
    "k2 = 1200000 #(N/m)\n",
    "k3 = 1800000 #(N/m)\n",
    "\n",
    "# making the stiffness matrix\n",
    "k = sm.Matrix([[k1,-k1,0],[-k1,k1+k2,-k2],[0,-k2,k2+k3]])\n",
    "\n",
    "# printing the stiffness matrix\n",
    "k"
   ]
  },
  {
   "cell_type": "markdown",
   "metadata": {},
   "source": [
    "## Step 4: Solving the EigenValue Problem\n",
    "Making the Matrix"
   ]
  },
  {
   "cell_type": "code",
   "execution_count": 11,
   "metadata": {},
   "outputs": [
    {
     "data": {
      "image/png": "[encoded data removed]",
      "text/latex": [
       "$$\\left[\\begin{matrix}- 1000 x^{2} + 600000 & -600000 & 0\\\\-600000 & - 1500 x^{2} + 1800000 & -1200000\\\\0 & -1200000 & - 2000 x^{2} + 3000000\\end{matrix}\\right]$$"
      ],
      "text/plain": [
       "⎡        2                                                   ⎤\n",
       "⎢- 1000⋅x  + 600000        -600000                 0         ⎥\n",
       "⎢                                                            ⎥\n",
       "⎢                            2                               ⎥\n",
       "⎢     -600000        - 1500⋅x  + 1800000       -1200000      ⎥\n",
       "⎢                                                            ⎥\n",
       "⎢                                                 2          ⎥\n",
       "⎣        0                -1200000        - 2000⋅x  + 3000000⎦"
      ]
     },
     "execution_count": 11,
     "metadata": {},
     "output_type": "execute_result"
    }
   ],
   "source": [
    "# assigning the \"x\" variable as a symbol\n",
    "x = sm.Symbol('x')\n",
    "\n",
    "# making the Eigen matrix\n",
    "A = k-m*x**2\n",
    "\n",
    "# printing the matrix\n",
    "A"
   ]
  },
  {
   "cell_type": "markdown",
   "metadata": {},
   "source": [
    "Getting the Determinant of the Matrix"
   ]
  },
  {
   "cell_type": "code",
   "execution_count": 12,
   "metadata": {},
   "outputs": [
    {
     "data": {
      "image/png": "[encoded data removed]",
      "text/latex": [
       "$$- 3000000000 x^{6} + 9900000000000 x^{4} - 8100000000000000 x^{2} + 1296000000000000000$$"
      ],
      "text/plain": [
       "              6                  4                     2                      \n",
       "- 3000000000⋅x  + 9900000000000⋅x  - 8100000000000000⋅x  + 1296000000000000000"
      ]
     },
     "execution_count": 12,
     "metadata": {},
     "output_type": "execute_result"
    }
   ],
   "source": [
    "sm.det(A).simplify()"
   ]
  },
  {
   "cell_type": "markdown",
   "metadata": {},
   "source": [
    "Solving the determinants and listing the types of modes"
   ]
  },
  {
   "cell_type": "code",
   "execution_count": 13,
   "metadata": {},
   "outputs": [
    {
     "name": "stdout",
     "output_type": "stream",
     "text": [
      "Period 1 = 0.2023720283163326, Period 2 = 0.43267656159437806, Period 3 = 0.13629624070103266\n"
     ]
    }
   ],
   "source": [
    "# This step solves the equation in line\n",
    "B = sm.solve(sm.det(A),x**2)\n",
    "\n",
    "# This line converts the array into real number\n",
    "C = real(B)\n",
    "\n",
    "# This line makes an array into a complex numbers\n",
    "D = array((C.astype(complex)))\n",
    "\n",
    "# Gets the squareroot of the real part of the complex number\n",
    "E = 1/(sqrt(D.real) / 2 / math.pi)\n",
    "\n",
    "# printing the Modes\n",
    "print(\"Period 1 = {0}, Period 2 = {1}, Period 3 = {2}\".format(E[0],E[1],E[2]))"
   ]
  }
 ],
 "metadata": {
  "kernelspec": {
   "display_name": "Python 3",
   "language": "python",
   "name": "python3"
  },
  "language_info": {
   "codemirror_mode": {
    "name": "ipython",
    "version": 3
   },
   "file_extension": ".py",
   "mimetype": "text/x-python",
   "name": "python",
   "nbconvert_exporter": "python",
   "pygments_lexer": "ipython3",
   "version": "3.6.3"
  }
 },
 "nbformat": 4,
 "nbformat_minor": 2
}
